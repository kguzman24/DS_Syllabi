{
 "cells": [
  {
   "cell_type": "markdown",
   "metadata": {},
   "source": [
    "## PDF to TXT converter!"
   ]
  },
  {
   "cell_type": "code",
   "execution_count": 1,
   "metadata": {},
   "outputs": [],
   "source": [
    "# import packages\n",
    "import fitz\n",
    "import io \n",
    "from PIL import Image\n",
    "import os"
   ]
  },
  {
   "cell_type": "code",
   "execution_count": 2,
   "metadata": {},
   "outputs": [
    {
     "name": "stdout",
     "output_type": "stream",
     "text": [
      "['GTech_Sp24.pdf', 'Cornell_24Sp.pdf', 'UoM_24F.pdf', 'ASU_23F.pdf', 'UArizona_24F.pdf', 'Rice_Sp23.pdf', 'UNM_F.pdf', 'UTEP_24Sp.pdf', 'UArk_21F.pdf', 'GTech_21Sp.pdf', 'Harvard_24Sp.pdf', 'UNM_23F.pdf', 'NJIT24Sp.pdf', 'USC_22F.pdf', 'CarnegieMellon_24Su.pdf', 'USC_23Sp.pdf', 'UMassAmherst_22Sp.pdf', 'UMassAmherst_2020Sp.pdf', 'UFlorida_22Sp.pdf', 'USC_19F.pdf', 'Tufts_23F.pdf', 'DU_18Sp.pdf', 'GWU_22Sp.pdf', 'NJIT_24Sp.pdf', 'UW_24Sp.pdf', 'OSU.pdf', 'UMich_F24.pdf', 'SJSU_F24.pdf', 'Stanford_23F.pdf', 'NYUParis_24F.pdf', 'BU_21F.pdf', 'RIT_22F.pdf', 'RIT_24F.pdf']\n"
     ]
    }
   ],
   "source": [
    "# get the list of all the file names in the directory\n",
    "file_list = os.listdir(path=\"./ML_Syllabi/pdf_files\")\n",
    "print(file_list)"
   ]
  },
  {
   "cell_type": "code",
   "execution_count": 12,
   "metadata": {},
   "outputs": [],
   "source": [
    "def convert_to_txt(file_name, folder = None):\n",
    "    #set the path\n",
    "    folder_path = \"./ML_Syllabi/pdf_files/\"\n",
    "    file_name = file_name\n",
    "\n",
    "    file = folder_path+file_name\n",
    "\n",
    "    #open the pdf\n",
    "    pdf_file = fitz.open(file)\n",
    "\n",
    "    #iterate over pdf pages\n",
    "    for page_index in range(len(pdf_file)):\n",
    "        #get the page\n",
    "        page = pdf_file.load_page(page_index) #load the page \n",
    "\n",
    "        out = open(f\"./ML_Syllabi/txt_files/{file_name[:-4]}.txt\", \"wb\") #create a text output\n",
    "        for page in pdf_file:\n",
    "            text = page.get_text().encode(\"utf8\") #get plain text (as in UTF-8)\n",
    "            out.write(text) #write text of page\n",
    "            out.write(bytes((12,))) #write page delimiter\n",
    "        out.close()\n"
   ]
  },
  {
   "cell_type": "code",
   "execution_count": 13,
   "metadata": {},
   "outputs": [],
   "source": [
    "for file in file_list:\n",
    "    convert_to_txt(file)"
   ]
  }
 ],
 "metadata": {
  "kernelspec": {
   "display_name": "Python 3",
   "language": "python",
   "name": "python3"
  },
  "language_info": {
   "codemirror_mode": {
    "name": "ipython",
    "version": 3
   },
   "file_extension": ".py",
   "mimetype": "text/x-python",
   "name": "python",
   "nbconvert_exporter": "python",
   "pygments_lexer": "ipython3",
   "version": "3.10.12"
  }
 },
 "nbformat": 4,
 "nbformat_minor": 2
}
